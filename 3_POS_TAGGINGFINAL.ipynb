{
  "cells": [
    {
      "cell_type": "markdown",
      "metadata": {
        "id": "INYNqUuCsXQj"
      },
      "source": [
        "# Sequence Processing with Recurrent Neural Networks"
      ]
    },
    {
      "cell_type": "markdown",
      "metadata": {
        "id": "nNT1WNEnlkBC"
      },
      "source": [
        "# <font color=\"red\">Contributions</font>\n",
        "\n",
        "- Panagiotis Ioannis Dallas\n",
        "- Ioanna Vounzoulaki\n",
        "\n",
        "Both of us contributed equally in this project."
      ]
    },
    {
      "cell_type": "markdown",
      "metadata": {
        "id": "uecpWMK0g0vG"
      },
      "source": [
        "## Recurrent Neural Networks\n",
        "Recurrent Neural Networks are a particularly interesting class of neural networks. Unlike standard fully-connected networks that accept a fixed-size input and produce a fixed-size output over a predefined number of computational steps (i.e. network layers), RNNs instead operate on sequences of vectors.\n",
        "\n",
        "Computationally, feedforward networks may be seen as a trainable (but parametrically fixed) function, whereas RNNs act as continuous, stateful programs operating on sequences of inputs.\n",
        "Cognitively, this may be viewed as enhancing our system's perceptive and computational abilities with a notion of memory.\n",
        "In the general case, this statefulness is captured by an intermediate hidden vector which is adjusted throughout the computation, affected by both the immediately previous version of itself __and__ the current input.\n",
        "\n",
        "RNNs are nowadays established as the core machinery of neural sequence processing.\n",
        "\n",
        "A simple recurrent network (SRN or Elman network) is described by the equations:\n",
        "* $h_t = \\theta_h (W_h x_t + U_h h_{t-1} + b_h ) $\n",
        "* $y_t = \\theta_y (W_y h_t + b_y) $\n",
        "\n",
        "where (at timestep $t$) $x_t$, $h_t$, $y_t$ are the network's input, hidden and output representations respectively, $\\theta_h$, $\\theta_y$ are its hidden and output activation functions, and $W_h$, $U_h$, $b_h$, $W_y$, $b_y$ are the parametric tensors to be learned."
      ]
    },
    {
      "cell_type": "code",
      "execution_count": null,
      "metadata": {
        "colab": {
          "base_uri": "https://localhost:8080/"
        },
        "id": "ykwn6gOTg0vH",
        "outputId": "c56e261d-721a-4df2-a7ac-fd1bc4d9f966"
      },
      "outputs": [
        {
          "output_type": "stream",
          "name": "stdout",
          "text": [
            "torch ver=2.1.0+cu118\n",
            "numpy ver=1.23.5\n"
          ]
        }
      ],
      "source": [
        "import numpy as np\n",
        "import torch\n",
        "print(f\"torch ver={torch.__version__}\\nnumpy ver={np.__version__}\")\n",
        "from torch import FloatTensor, LongTensor\n",
        "from typing import Tuple, List, Callable, Optional\n",
        "torch.set_printoptions(precision=8) #to increase precision of printing floats"
      ]
    },
    {
      "cell_type": "markdown",
      "metadata": {
        "id": "49t1_sLzg0vI"
      },
      "source": [
        "We will use the following function to concisely convert torch tensors to numpy arrays before printing tensors."
      ]
    },
    {
      "cell_type": "code",
      "execution_count": null,
      "metadata": {
        "id": "1nPVsD1Cg0vI"
      },
      "outputs": [],
      "source": [
        "def tr2np(tensor):\n",
        "    \"\"\"Convert torch tensor into numpy array\"\"\"\n",
        "    return tensor.detach().numpy()"
      ]
    },
    {
      "cell_type": "markdown",
      "metadata": {
        "id": "gJlpjF4Pg0vJ"
      },
      "source": [
        "### Our own SRN\n",
        "Let's make our own simple recurrent network from scratch, to get an idea of its inner workings. To make our life just a bit simpler, we will use `torch.nn.Linear` to model the internal transformations.\n",
        "\n",
        "Complete the `mySRN` class, which is initialized with the input $d_i$, hidden $d_h$ and output $d_o$ dimensionalities, as well as two non-linear functions $\\theta_h$ and $\\theta_y$, and constructs an SRN implementing three `torch.nn.Linear` layers:\n",
        "1. `x_to_h`: a layer that takes $x_t$ and produces $W_h x_t$\n",
        "2. `h_to_h`: a layer that takes $h_{t-1}$ and produces $U_h h_{t-1} + b_h$\n",
        "3. `h_to_y`: a layer that takes $h_t$ and produces $W_y h_t + b_y$\n",
        "\n",
        "Implement the function `step` that performs a computational step, accepting $x_t$ and $h_{t-1}$ and producing $h_t$ and $y_t$.\n",
        "\n",
        "Implement the function `forward` that accepts a List of inputs $X$, an initial hidden vector $h_{-1}$ and iteratively applies `step` until the input sequence is exhausted, returning a List of outputs $Y$ (of the same length as $X$).\n",
        "\n",
        "<font color=\"red\">_Hint_: Note that `x_to_h` does not have a bias term $b$, since we will incorporate it into `h_to_h`"
      ]
    },
    {
      "cell_type": "code",
      "execution_count": null,
      "metadata": {
        "id": "HFQRMSjag0vK"
      },
      "outputs": [],
      "source": [
        "# @title c1 [.5pt]\n",
        "class mySRN(torch.nn.Module):\n",
        "    def __init__(\n",
        "        self,\n",
        "        input_dim: int,\n",
        "        hidden_dim: int,\n",
        "        output_dim: int,\n",
        "        hidden_activation: Callable[[FloatTensor], FloatTensor],\n",
        "        output_activation: Callable[[FloatTensor], FloatTensor],\n",
        "        device: str\n",
        "    ) -> None:\n",
        "        super(mySRN, self).__init__()\n",
        "        self.hidden_activation = hidden_activation\n",
        "        self.output_activation = output_activation\n",
        "        self.device = device\n",
        "        # setting x to h with no Bias while h to h and h to y both have\n",
        "        self.x_to_h = torch.nn.Linear(in_features=input_dim, out_features=hidden_dim, bias=False)\n",
        "        self.h_to_h = torch.nn.Linear(in_features=hidden_dim, out_features=hidden_dim, bias=True)\n",
        "        self.h_to_y = torch.nn.Linear(in_features=hidden_dim, out_features=output_dim, bias=True)\n",
        "\n",
        "    # Computational step function based on the description\n",
        "    def step(self, x: FloatTensor, h: FloatTensor) -> Tuple[FloatTensor, FloatTensor]:\n",
        "        ht = self.hidden_activation(self.x_to_h(x) + self.h_to_h(h))\n",
        "        yt = self.output_activation(self.h_to_y(ht))\n",
        "        return ht, yt\n",
        "\n",
        "    def forward(self, X: List[FloatTensor], h: FloatTensor) -> List[FloatTensor]:\n",
        "        Y = []\n",
        "        ht = h\n",
        "        # Iterate through X and append the output to Y\n",
        "        for i in range(len(X)):\n",
        "            ht, yt = self.step(X[i], ht)\n",
        "            Y.append(yt)\n",
        "        return Y"
      ]
    },
    {
      "cell_type": "markdown",
      "metadata": {
        "id": "5BFhAmg6g0vK"
      },
      "source": [
        "The following toy RNN helps you to verify whether your implementation is correct.  \n",
        "Use the numbers below in the functions, and you can manually verify the output of the RNN.  \n",
        "This manual check will help you to see whether you are understanding the calculations behind the RNN."
      ]
    },
    {
      "cell_type": "code",
      "execution_count": null,
      "metadata": {
        "colab": {
          "base_uri": "https://localhost:8080/"
        },
        "id": "rMWeVY-ng0vM",
        "outputId": "2160edfa-bd43-4d1f-8573-648a49ef2584"
      },
      "outputs": [
        {
          "output_type": "stream",
          "name": "stdout",
          "text": [
            "X->H \n",
            "matrix:\n",
            " [[-0.04839968 -0.01979553 -0.21650827]\n",
            " [ 0.13281555 -0.33030522 -0.10181434]] \n",
            "bias: None\n",
            "H->H \n",
            "matrix:\n",
            " [[ 0.27406603  0.6637026 ]\n",
            " [ 0.16658802 -0.23989876]] \n",
            "bias: [ 0.06780045 -0.07924712]\n",
            "H->Y \n",
            "matrix:\n",
            " [[0.28863114 0.0809646 ]] \n",
            "bias: [0.2769911]\n",
            "output:\n",
            " [tensor([0.50473863], grad_fn=<ReluBackward0>), tensor([0.35998842], grad_fn=<ReluBackward0>)]\n"
          ]
        }
      ],
      "source": [
        "# TEST c1\n",
        "# let's use seed so that the weights are initialized in a deterministic way\n",
        "torch.manual_seed(10)\n",
        "# create our RNN with some short dimensions\n",
        "my_rnn = mySRN(3, 2, 1, torch.nn.ReLU(), torch.nn.ReLU(), 'cpu')\n",
        "\n",
        "# printing initilized weights and biases\n",
        "print(\"X->H\", \"\\nmatrix:\\n\", tr2np(my_rnn.x_to_h.weight), \"\\nbias:\", my_rnn.x_to_h.bias)\n",
        "print(\"H->H\", \"\\nmatrix:\\n\", tr2np(my_rnn.h_to_h.weight), \"\\nbias:\", tr2np(my_rnn.h_to_h.bias))\n",
        "print(\"H->Y\", \"\\nmatrix:\\n\", tr2np(my_rnn.h_to_y.weight), \"\\nbias:\", tr2np(my_rnn.h_to_y.bias))\n",
        "\n",
        "# running the RNN on a sample input of size 2 and an initial hidden vector\n",
        "output = my_rnn.forward([FloatTensor([0,0,1]), FloatTensor([1,0,0])],\n",
        "                         FloatTensor([1,1]))\n",
        "\n",
        "print(\"output:\\n\", output)"
      ]
    },
    {
      "cell_type": "markdown",
      "metadata": {
        "id": "KCLwm3OXg0vN"
      },
      "source": [
        "In practice, we do not need to write our own functions for common RNN architectures.\n",
        "Torch already provides the [necessary abstractions](https://pytorch.org/docs/stable/nn.html#recurrent-layers).\n",
        "\n",
        "The [RNN](https://pytorch.org/docs/stable/generated/torch.nn.RNN.html#torch.nn.RNN) wrapper implements highly optimized forward routines to compute the hidden representations of a full input sequence.\n",
        "\n",
        "Some pointers:\n",
        "* Unlike our naive implementation, RNN accepts a 3-dimensional tensor of shape (seq_len, batch_shape, input_dim) rather than a list of 2-dimensional tensors\n",
        "* If no initial hidden state is provided, it defaults to a zero tensor\n",
        "* The class produces just the RNN hidden states; it is up to us to define the `h_to_y` transformation on top of them\n",
        "* The non-linearity argument is a string; our only two choices are either `\"tanh\"` or `\"relu\"` (shorthands for `torch.nn.Tanh` and `torch.nn.ReLU` respectively)\n",
        "\n",
        "**Read the documentation (!) for further details.**\n",
        "\n",
        "A brief example is given below."
      ]
    },
    {
      "cell_type": "code",
      "execution_count": null,
      "metadata": {
        "colab": {
          "base_uri": "https://localhost:8080/"
        },
        "id": "dYK-5vpfg0vN",
        "outputId": "c9246a40-8c0e-4062-cd3b-7d54d7fa2d76"
      },
      "outputs": [
        {
          "output_type": "stream",
          "name": "stdout",
          "text": [
            "torch.Size([10, 32, 48])\n"
          ]
        }
      ],
      "source": [
        "rnn = torch.nn.RNN(input_size=16, hidden_size=48, nonlinearity=\"tanh\")\n",
        "X = torch.rand(10, 32, 16)\n",
        "h, _ = rnn(X)\n",
        "print(h.shape)"
      ]
    },
    {
      "cell_type": "markdown",
      "metadata": {
        "id": "rBqoEy76g0vO"
      },
      "source": [
        "So, for a random input tensor of shape (seq_len, batch_size, input_dim), we get back an output tensor of shape (seq_len, batch_size, hidden_dim)"
      ]
    },
    {
      "cell_type": "code",
      "execution_count": null,
      "metadata": {
        "id": "1Y6W94Nwg0vO"
      },
      "outputs": [],
      "source": [
        "del mySRN, rnn, X, h, my_rnn, output"
      ]
    },
    {
      "cell_type": "markdown",
      "metadata": {
        "id": "YPtAV63_g0vO"
      },
      "source": [
        "### A faster version of the SRN\n",
        "Now let's wrap an `RNN` into a custom module `fastSRN` that implements it along with the `h_to_y` transformation."
      ]
    },
    {
      "cell_type": "code",
      "execution_count": null,
      "metadata": {
        "id": "U8Z5FthBg0vP"
      },
      "outputs": [],
      "source": [
        "# @title c2 [.5pt]\n",
        "class fastSRN(torch.nn.Module):\n",
        "    def __init__(\n",
        "        self,\n",
        "        input_dim: int,\n",
        "        hidden_dim: int,\n",
        "        output_dim: int,\n",
        "        hidden_activation: str,\n",
        "        output_activation: Callable[[FloatTensor], FloatTensor],\n",
        "        device: str\n",
        "    ) -> None:\n",
        "        # temporary object of the superclass\n",
        "        super(fastSRN, self).__init__()\n",
        "        # Access variables of the current instance\n",
        "        self.rnn = torch.nn.RNN(input_size = input_dim, hidden_size = hidden_dim, nonlinearity = hidden_activation , bidirectional = False, dropout = 0)\n",
        "        # h to y has to be initiallized once with the configured dimensions\n",
        "        self.h_to_y = torch.nn.Linear(in_features=hidden_dim, out_features=output_dim)\n",
        "        self.output_activation = output_activation\n",
        "        self.device = device\n",
        "\n",
        "    def forward(self, X:FloatTensor, h: Optional[FloatTensor]=None) -> FloatTensor:\n",
        "        h_tran , _ = self.rnn(X, h)\n",
        "        y_transformed = self.h_to_y(h_tran)\n",
        "        output = self.output_activation(y_transformed)\n",
        "        return output"
      ]
    },
    {
      "cell_type": "markdown",
      "metadata": {
        "id": "PZJMppnjg0vP"
      },
      "source": [
        "Let's see our new implementation in action.\n",
        "\n",
        "Initialize a random input tensor $X$ that would correspond to 32 sequences,  each of length 10, with each item having 16 features, and a `fastSRN` fit to process it, producing 42-dimensional hidden states and 2-dimensional output vectors for each sequence item.\n",
        "\n",
        "Run the SRN on the tensor and make sure the output shape is as expected."
      ]
    },
    {
      "cell_type": "code",
      "execution_count": null,
      "metadata": {
        "colab": {
          "base_uri": "https://localhost:8080/"
        },
        "id": "KlTOIIdMg0vP",
        "outputId": "0440e506-2fac-4948-d011-f533ea5c1bf8"
      },
      "outputs": [
        {
          "output_type": "execute_result",
          "data": {
            "text/plain": [
              "torch.Size([10, 32, 2])"
            ]
          },
          "metadata": {},
          "execution_count": 8
        }
      ],
      "source": [
        "# TEST c2a\n",
        "fast_srn = fastSRN(\n",
        "    input_dim=16, hidden_dim=42, output_dim=2,\n",
        "    hidden_activation=\"tanh\", output_activation=torch.nn.Softmax(dim=-1), device=\"cpu\"\n",
        ")\n",
        "X = torch.rand(10, 32, 16)\n",
        "y = fast_srn(X)\n",
        "y.shape"
      ]
    },
    {
      "cell_type": "markdown",
      "metadata": {
        "id": "p1JQ_q3cg0vP"
      },
      "source": [
        "Again you can verify correctness of your implementation here, and as before, check whether it really does the computations what equations are describing."
      ]
    },
    {
      "cell_type": "code",
      "execution_count": null,
      "metadata": {
        "colab": {
          "base_uri": "https://localhost:8080/"
        },
        "id": "4Y-91lmhg0vQ",
        "outputId": "e233bcd6-fabb-41fa-a274-1cbccc11db5f"
      },
      "outputs": [
        {
          "output_type": "stream",
          "name": "stdout",
          "text": [
            "X->H \n",
            "matrix:\n",
            " [[-0.05927727 -0.02424447 -0.2651674 ]\n",
            " [ 0.16266517 -0.40453961 -0.12469659]] \n",
            "bias: [ 0.06780045 -0.07924712]\n",
            "H->H \n",
            "matrix:\n",
            " [[ 0.27406603  0.6637026 ]\n",
            " [ 0.16658802 -0.23989876]] \n",
            "bias: [0.28863114 0.0809646 ]\n",
            "H->Y \n",
            "matrix:\n",
            " [[ 0.2769911   0.6857927 ]\n",
            " [-0.29362798 -0.02499055]] \n",
            "bias: [ 0.16262412 -0.00461879]\n",
            "output:\n",
            " [[[0.55461127 0.44538873]]\n",
            "\n",
            " [[0.61744654 0.3825534 ]]]\n"
          ]
        }
      ],
      "source": [
        "# TEST c2b\n",
        "torch.manual_seed(10)\n",
        "# create our RNN with some short dimensions\n",
        "fast_srn = fastSRN(3, 2, 2, 'relu', output_activation=torch.nn.Softmax(dim=-1), device='cpu')\n",
        "\n",
        "# printing initilized weights and biases\n",
        "print(\"X->H\", \"\\nmatrix:\\n\", tr2np(fast_srn.rnn.weight_ih_l0), \"\\nbias:\",  tr2np(fast_srn.rnn.bias_ih_l0))\n",
        "print(\"H->H\", \"\\nmatrix:\\n\", tr2np(fast_srn.rnn.weight_hh_l0), \"\\nbias:\", tr2np(fast_srn.rnn.bias_hh_l0))\n",
        "print(\"H->Y\", \"\\nmatrix:\\n\", tr2np(fast_srn.h_to_y.weight), \"\\nbias:\", tr2np(fast_srn.h_to_y.bias))\n",
        "\n",
        "\n",
        "# running the RNN on a sample input of size 2\n",
        "output = fast_srn.forward(torch.FloatTensor([[[0,0,1]], [[1,0,0]]]))\n",
        "\n",
        "print(\"output:\\n\", tr2np(output))"
      ]
    },
    {
      "cell_type": "code",
      "execution_count": null,
      "metadata": {
        "id": "A7btld2-g0vQ"
      },
      "outputs": [],
      "source": [
        "del fast_srn, X, y, output"
      ]
    },
    {
      "cell_type": "markdown",
      "metadata": {
        "id": "gIUELYrXg0vQ"
      },
      "source": [
        "You may have noticed a minor complication: in order to utilize batching, we need our input sequences to be of the same length.\n",
        "\n",
        "This, however, is very rarely the case in practice. A common trick against this problem is _padding_; that is, appending zero tensors to all input sequences shorter than the maximum in-batch length to make them all equally long.\n",
        "\n",
        "As usual, torch already does the hard work for us via [pad_sequence](https://pytorch.org/docs/stable/nn.html?highlight=pad%20_sequence#torch.nn.utils.rnn.pad_sequence). Given a list of $N$ 2-dimensional tensors, each of shape (seq\\_len$_n$, input_dim), it will construct a 3-d tensor of shape ($max_{n \\in N}${seq\\_len$_n$}, N, input_dim).\n",
        "\n",
        "An example:"
      ]
    },
    {
      "cell_type": "code",
      "execution_count": null,
      "metadata": {
        "colab": {
          "base_uri": "https://localhost:8080/"
        },
        "id": "OVMlf4i4g0vQ",
        "outputId": "be63d59a-960f-4f09-be7f-39e158b52974"
      },
      "outputs": [
        {
          "output_type": "stream",
          "name": "stdout",
          "text": [
            "torch.Size([4, 3, 3])\n"
          ]
        }
      ],
      "source": [
        "x1 = torch.rand(1, 3)  # a sequence of 1, 3-dimensional item\n",
        "x2 = torch.rand(4, 3)  # a sequence of 4, 3-dimensional items\n",
        "x3 = torch.rand(2, 3)  # a sequence of 2, 3-dimensional items\n",
        "\n",
        "X = torch.nn.utils.rnn.pad_sequence([x1, x2, x3])\n",
        "\n",
        "# Can you guess what the shape of X is?\n",
        "print(X.shape)"
      ]
    },
    {
      "cell_type": "markdown",
      "metadata": {
        "id": "m_cFZRkag0vR"
      },
      "source": [
        "Now compare the contents for better understanding."
      ]
    },
    {
      "cell_type": "code",
      "execution_count": null,
      "metadata": {
        "colab": {
          "base_uri": "https://localhost:8080/"
        },
        "id": "MIpzlG2Dg0vR",
        "outputId": "4c10f047-1d86-40ac-9abf-c6648ea3adec"
      },
      "outputs": [
        {
          "output_type": "stream",
          "name": "stdout",
          "text": [
            "tensor([[0.45211244, 0.05751723, 0.06869602]])\n",
            "tensor([[0.05007005, 0.01075643, 0.03432530],\n",
            "        [0.12121904, 0.04903173, 0.03096646],\n",
            "        [0.71918452, 0.80667484, 0.83786207],\n",
            "        [0.76936007, 0.66942430, 0.72027290]])\n",
            "tensor([[0.22349077, 0.95017546, 0.46551836],\n",
            "        [0.93140107, 0.65328628, 0.89135820]])\n",
            "==================================================\n",
            "tensor([[[0.45211244, 0.05751723, 0.06869602],\n",
            "         [0.05007005, 0.01075643, 0.03432530],\n",
            "         [0.22349077, 0.95017546, 0.46551836]],\n",
            "\n",
            "        [[0.00000000, 0.00000000, 0.00000000],\n",
            "         [0.12121904, 0.04903173, 0.03096646],\n",
            "         [0.93140107, 0.65328628, 0.89135820]],\n",
            "\n",
            "        [[0.00000000, 0.00000000, 0.00000000],\n",
            "         [0.71918452, 0.80667484, 0.83786207],\n",
            "         [0.00000000, 0.00000000, 0.00000000]],\n",
            "\n",
            "        [[0.00000000, 0.00000000, 0.00000000],\n",
            "         [0.76936007, 0.66942430, 0.72027290],\n",
            "         [0.00000000, 0.00000000, 0.00000000]]])\n"
          ]
        }
      ],
      "source": [
        "for i in [x1, x2, x3]: print(i)\n",
        "print(f\"{'':=^50}\\n{X}\")"
      ]
    },
    {
      "cell_type": "code",
      "execution_count": null,
      "metadata": {
        "id": "KCw_C8ykg0vR"
      },
      "outputs": [],
      "source": [
        "del x1, x2, x3, X"
      ]
    },
    {
      "cell_type": "markdown",
      "metadata": {
        "id": "UCb1qMfzg0vR"
      },
      "source": [
        "## Pretrained Word Embeddings\n",
        "Moving on --- in the last assignment, we saw how to train our own word embeddings using a small toy corpus. Now, we will see how to easily employ high-quality pretrained word vectors and, later on, how to utilize them for further downstream tasks.\n",
        "\n",
        "We are going to use [spaCy](https://spacy.io/). SpaCy is a high-level NLP library that provides a ton of useful functionalities, but we will only focus on its pretrained embeddings for this assignment.\n",
        "\n",
        "<s>Before proceeding, [install spacy](https://spacy.io/usage) using your python package manager (e.g. `pip install spacy`).</s>  \n",
        "Fortunately the Colab environment comes with SapCy."
      ]
    },
    {
      "cell_type": "code",
      "execution_count": null,
      "metadata": {
        "colab": {
          "base_uri": "https://localhost:8080/"
        },
        "id": "2S1Cqj2Pg0vR",
        "outputId": "3c202ceb-f811-4837-8122-df09bc0f5fb2"
      },
      "outputs": [
        {
          "output_type": "stream",
          "name": "stdout",
          "text": [
            "spacy ver=3.6.1\n"
          ]
        }
      ],
      "source": [
        "import spacy\n",
        "print(f\"spacy ver={spacy.__version__}\")"
      ]
    },
    {
      "cell_type": "markdown",
      "metadata": {
        "id": "ZNRwLZjvg0vR"
      },
      "source": [
        "SpaCy comes with a lot of different-size models for different languages.\n",
        "\n",
        "We will need to download the large English model for the exercises to follow. You can do it by simply running the magic command below."
      ]
    },
    {
      "cell_type": "code",
      "execution_count": null,
      "metadata": {
        "colab": {
          "base_uri": "https://localhost:8080/"
        },
        "id": "g3vX_8JSg0vS",
        "outputId": "615d9060-ccbd-4005-a3f1-b72738ffc53c"
      },
      "outputs": [
        {
          "output_type": "stream",
          "name": "stdout",
          "text": [
            "2023-11-03 17:28:54.597570: E tensorflow/compiler/xla/stream_executor/cuda/cuda_dnn.cc:9342] Unable to register cuDNN factory: Attempting to register factory for plugin cuDNN when one has already been registered\n",
            "2023-11-03 17:28:54.597627: E tensorflow/compiler/xla/stream_executor/cuda/cuda_fft.cc:609] Unable to register cuFFT factory: Attempting to register factory for plugin cuFFT when one has already been registered\n",
            "2023-11-03 17:28:54.597657: E tensorflow/compiler/xla/stream_executor/cuda/cuda_blas.cc:1518] Unable to register cuBLAS factory: Attempting to register factory for plugin cuBLAS when one has already been registered\n",
            "2023-11-03 17:28:55.915733: W tensorflow/compiler/tf2tensorrt/utils/py_utils.cc:38] TF-TRT Warning: Could not find TensorRT\n",
            "Collecting en-core-web-lg==3.6.0\n",
            "  Downloading https://github.com/explosion/spacy-models/releases/download/en_core_web_lg-3.6.0/en_core_web_lg-3.6.0-py3-none-any.whl (587.7 MB)\n",
            "\u001b[2K     \u001b[90m━━━━━━━━━━━━━━━━━━━━━━━━━━━━━━━━━━━━━━━━\u001b[0m \u001b[32m587.7/587.7 MB\u001b[0m \u001b[31m2.8 MB/s\u001b[0m eta \u001b[36m0:00:00\u001b[0m\n",
            "\u001b[?25hRequirement already satisfied: spacy<3.7.0,>=3.6.0 in /usr/local/lib/python3.10/dist-packages (from en-core-web-lg==3.6.0) (3.6.1)\n",
            "Requirement already satisfied: spacy-legacy<3.1.0,>=3.0.11 in /usr/local/lib/python3.10/dist-packages (from spacy<3.7.0,>=3.6.0->en-core-web-lg==3.6.0) (3.0.12)\n",
            "Requirement already satisfied: spacy-loggers<2.0.0,>=1.0.0 in /usr/local/lib/python3.10/dist-packages (from spacy<3.7.0,>=3.6.0->en-core-web-lg==3.6.0) (1.0.5)\n",
            "Requirement already satisfied: murmurhash<1.1.0,>=0.28.0 in /usr/local/lib/python3.10/dist-packages (from spacy<3.7.0,>=3.6.0->en-core-web-lg==3.6.0) (1.0.10)\n",
            "Requirement already satisfied: cymem<2.1.0,>=2.0.2 in /usr/local/lib/python3.10/dist-packages (from spacy<3.7.0,>=3.6.0->en-core-web-lg==3.6.0) (2.0.8)\n",
            "Requirement already satisfied: preshed<3.1.0,>=3.0.2 in /usr/local/lib/python3.10/dist-packages (from spacy<3.7.0,>=3.6.0->en-core-web-lg==3.6.0) (3.0.9)\n",
            "Requirement already satisfied: thinc<8.2.0,>=8.1.8 in /usr/local/lib/python3.10/dist-packages (from spacy<3.7.0,>=3.6.0->en-core-web-lg==3.6.0) (8.1.12)\n",
            "Requirement already satisfied: wasabi<1.2.0,>=0.9.1 in /usr/local/lib/python3.10/dist-packages (from spacy<3.7.0,>=3.6.0->en-core-web-lg==3.6.0) (1.1.2)\n",
            "Requirement already satisfied: srsly<3.0.0,>=2.4.3 in /usr/local/lib/python3.10/dist-packages (from spacy<3.7.0,>=3.6.0->en-core-web-lg==3.6.0) (2.4.8)\n",
            "Requirement already satisfied: catalogue<2.1.0,>=2.0.6 in /usr/local/lib/python3.10/dist-packages (from spacy<3.7.0,>=3.6.0->en-core-web-lg==3.6.0) (2.0.10)\n",
            "Requirement already satisfied: typer<0.10.0,>=0.3.0 in /usr/local/lib/python3.10/dist-packages (from spacy<3.7.0,>=3.6.0->en-core-web-lg==3.6.0) (0.9.0)\n",
            "Requirement already satisfied: pathy>=0.10.0 in /usr/local/lib/python3.10/dist-packages (from spacy<3.7.0,>=3.6.0->en-core-web-lg==3.6.0) (0.10.3)\n",
            "Requirement already satisfied: smart-open<7.0.0,>=5.2.1 in /usr/local/lib/python3.10/dist-packages (from spacy<3.7.0,>=3.6.0->en-core-web-lg==3.6.0) (6.4.0)\n",
            "Requirement already satisfied: tqdm<5.0.0,>=4.38.0 in /usr/local/lib/python3.10/dist-packages (from spacy<3.7.0,>=3.6.0->en-core-web-lg==3.6.0) (4.66.1)\n",
            "Requirement already satisfied: numpy>=1.15.0 in /usr/local/lib/python3.10/dist-packages (from spacy<3.7.0,>=3.6.0->en-core-web-lg==3.6.0) (1.23.5)\n",
            "Requirement already satisfied: requests<3.0.0,>=2.13.0 in /usr/local/lib/python3.10/dist-packages (from spacy<3.7.0,>=3.6.0->en-core-web-lg==3.6.0) (2.31.0)\n",
            "Requirement already satisfied: pydantic!=1.8,!=1.8.1,<3.0.0,>=1.7.4 in /usr/local/lib/python3.10/dist-packages (from spacy<3.7.0,>=3.6.0->en-core-web-lg==3.6.0) (1.10.13)\n",
            "Requirement already satisfied: jinja2 in /usr/local/lib/python3.10/dist-packages (from spacy<3.7.0,>=3.6.0->en-core-web-lg==3.6.0) (3.1.2)\n",
            "Requirement already satisfied: setuptools in /usr/local/lib/python3.10/dist-packages (from spacy<3.7.0,>=3.6.0->en-core-web-lg==3.6.0) (67.7.2)\n",
            "Requirement already satisfied: packaging>=20.0 in /usr/local/lib/python3.10/dist-packages (from spacy<3.7.0,>=3.6.0->en-core-web-lg==3.6.0) (23.2)\n",
            "Requirement already satisfied: langcodes<4.0.0,>=3.2.0 in /usr/local/lib/python3.10/dist-packages (from spacy<3.7.0,>=3.6.0->en-core-web-lg==3.6.0) (3.3.0)\n",
            "Requirement already satisfied: typing-extensions>=4.2.0 in /usr/local/lib/python3.10/dist-packages (from pydantic!=1.8,!=1.8.1,<3.0.0,>=1.7.4->spacy<3.7.0,>=3.6.0->en-core-web-lg==3.6.0) (4.5.0)\n",
            "Requirement already satisfied: charset-normalizer<4,>=2 in /usr/local/lib/python3.10/dist-packages (from requests<3.0.0,>=2.13.0->spacy<3.7.0,>=3.6.0->en-core-web-lg==3.6.0) (3.3.1)\n",
            "Requirement already satisfied: idna<4,>=2.5 in /usr/local/lib/python3.10/dist-packages (from requests<3.0.0,>=2.13.0->spacy<3.7.0,>=3.6.0->en-core-web-lg==3.6.0) (3.4)\n",
            "Requirement already satisfied: urllib3<3,>=1.21.1 in /usr/local/lib/python3.10/dist-packages (from requests<3.0.0,>=2.13.0->spacy<3.7.0,>=3.6.0->en-core-web-lg==3.6.0) (2.0.7)\n",
            "Requirement already satisfied: certifi>=2017.4.17 in /usr/local/lib/python3.10/dist-packages (from requests<3.0.0,>=2.13.0->spacy<3.7.0,>=3.6.0->en-core-web-lg==3.6.0) (2023.7.22)\n",
            "Requirement already satisfied: blis<0.8.0,>=0.7.8 in /usr/local/lib/python3.10/dist-packages (from thinc<8.2.0,>=8.1.8->spacy<3.7.0,>=3.6.0->en-core-web-lg==3.6.0) (0.7.11)\n",
            "Requirement already satisfied: confection<1.0.0,>=0.0.1 in /usr/local/lib/python3.10/dist-packages (from thinc<8.2.0,>=8.1.8->spacy<3.7.0,>=3.6.0->en-core-web-lg==3.6.0) (0.1.3)\n",
            "Requirement already satisfied: click<9.0.0,>=7.1.1 in /usr/local/lib/python3.10/dist-packages (from typer<0.10.0,>=0.3.0->spacy<3.7.0,>=3.6.0->en-core-web-lg==3.6.0) (8.1.7)\n",
            "Requirement already satisfied: MarkupSafe>=2.0 in /usr/local/lib/python3.10/dist-packages (from jinja2->spacy<3.7.0,>=3.6.0->en-core-web-lg==3.6.0) (2.1.3)\n",
            "Installing collected packages: en-core-web-lg\n",
            "Successfully installed en-core-web-lg-3.6.0\n",
            "\u001b[38;5;2m✔ Download and installation successful\u001b[0m\n",
            "You can now load the package via spacy.load('en_core_web_lg')\n"
          ]
        }
      ],
      "source": [
        "!python3 -m spacy download en_core_web_lg"
      ]
    },
    {
      "cell_type": "markdown",
      "metadata": {
        "id": "HvoJBd9Sg0vS"
      },
      "source": [
        "After having downloaded the model, we can load it as follows (you may need to restart your notebook after the download is complete):"
      ]
    },
    {
      "cell_type": "code",
      "execution_count": null,
      "metadata": {
        "id": "A4tZeJwUg0vS"
      },
      "outputs": [],
      "source": [
        "nlp = spacy.load(\"en_core_web_lg\")"
      ]
    },
    {
      "cell_type": "markdown",
      "metadata": {
        "id": "x5ycevITg0vS"
      },
      "source": [
        "We can then use the loaded model to process a sentence and obtain its word vectors, a List of 300-dimensional numpy arrays. [More info](https://spacy.io/models/en#en_core_web_lg) about vectors coming with `en_core_web_lg`.  \n",
        "We can also check similarities between the vectors, e.g., `words` is more similar to `sentence` than to `this`."
      ]
    },
    {
      "cell_type": "code",
      "execution_count": null,
      "metadata": {
        "colab": {
          "base_uri": "https://localhost:8080/"
        },
        "id": "iJz3tY56g0vS",
        "outputId": "a3330017-7ef5-4e52-db93-82517ca637b4"
      },
      "outputs": [
        {
          "output_type": "stream",
          "name": "stdout",
          "text": [
            "We have 7 vectors, each of shape (300,) and of type <class 'numpy.ndarray'>\n",
            "'words' is 0.51 similar to 'sentence' and 0.36 similar to 'this'\n"
          ]
        }
      ],
      "source": [
        "doc = nlp(\"this is a sentence of 7 words\")  # the processed sentence\n",
        "vectors = list(map(lambda x: x.vector, doc))  # its vectors\n",
        "# vectors = [ t.vector for t in doc ] $ or the same with list comprehension\n",
        "\n",
        "print(f\"We have {len(vectors)} vectors\", end=\", \")\n",
        "print(f\"each of shape {vectors[0].shape} and of type {type(vectors[0])}\")\n",
        "\n",
        "print(f\"'{doc[6]}' is {doc[6].similarity(doc[3]):.2f} similar to '{doc[3]}' and {doc[6].similarity(doc[0]):.2f} similar to '{doc[0]}'\")"
      ]
    },
    {
      "cell_type": "markdown",
      "metadata": {
        "id": "w-9Ha-rFg0vT"
      },
      "source": [
        "And then finally convert them into torch tensors."
      ]
    },
    {
      "cell_type": "code",
      "execution_count": null,
      "metadata": {
        "colab": {
          "base_uri": "https://localhost:8080/"
        },
        "id": "Cq2dsTfBg0vT",
        "outputId": "89267937-ced4-403f-e1df-4a8cee7424fe"
      },
      "outputs": [
        {
          "output_type": "stream",
          "name": "stdout",
          "text": [
            "torch.Size([7, 300])\n"
          ]
        }
      ],
      "source": [
        "torch_vectors = torch.tensor(np.array(vectors))\n",
        "# torch_vectors = torch.tensor(vectors) # this is also fine but might get an efficiency warning from torch\n",
        "print(torch_vectors.shape)"
      ]
    },
    {
      "cell_type": "markdown",
      "metadata": {
        "id": "1s8R5H3Kg0vT"
      },
      "source": [
        "Or, in the case of multiple sentences:"
      ]
    },
    {
      "cell_type": "code",
      "execution_count": null,
      "metadata": {
        "colab": {
          "base_uri": "https://localhost:8080/"
        },
        "id": "rVhh_bdTg0vT",
        "outputId": "779ba407-e861-4867-ce70-0b1f902fcd4f"
      },
      "outputs": [
        {
          "output_type": "stream",
          "name": "stdout",
          "text": [
            "torch.Size([4, 300])\n"
          ]
        }
      ],
      "source": [
        "# Example sentences.\n",
        "sentences = [\"This is a sentence\", \"This is another sentence.\"]\n",
        "\n",
        "# Parallel processing with spacy.\n",
        "docs = list(map(nlp, sentences))\n",
        "\n",
        "# Convert each processed sentence into a list of vectors.\n",
        "vectors = map(lambda doc: [word.vector for word in doc], docs)\n",
        "\n",
        "# Convert each list of vectors into a 2-d torch tensor.\n",
        "tensors = list(map(lambda sentence_vectors: torch.tensor(np.array(sentence_vectors)), vectors))\n",
        "print(tensors[0].shape)"
      ]
    },
    {
      "cell_type": "markdown",
      "metadata": {
        "id": "9CcdOZ2Wg0vU"
      },
      "source": [
        "## POS Tagging\n",
        "Given our pretrained embeddings, we may represent sentences as _sequences of vectors_, which is exactly the format expected by an RNN.\n",
        "We will now try to train an SRN to iterate over a sentence and assign part of speech tags to each of its words."
      ]
    },
    {
      "cell_type": "markdown",
      "metadata": {
        "id": "hNU1IS5Sg0vU"
      },
      "source": [
        "### Examining the data"
      ]
    },
    {
      "cell_type": "markdown",
      "metadata": {
        "id": "PFR7sjs6g0vU"
      },
      "source": [
        "First, let's load and inspect our data files.\n",
        "\n",
        "The pickle file contains three items:\n",
        "1. `sentences`: a List of strings (sentences)\n",
        "2. `postags`: a List of Lists of strings (POS tags)\n",
        "3. `pos_to_int`: a Dictionary from strings to ints (mapping each POS tag to a unique identifier)\n"
      ]
    },
    {
      "cell_type": "code",
      "execution_count": null,
      "metadata": {
        "colab": {
          "base_uri": "https://localhost:8080/"
        },
        "id": "rExnD7h4g0vU",
        "outputId": "3f8cb958-7c00-4f47-e0bb-9006d1c36060"
      },
      "outputs": [
        {
          "output_type": "stream",
          "name": "stdout",
          "text": [
            "2023-11-03 17:29:36 URL:https://naturallogic.pro/_files_/download/MLHVL/pos-rnn-data.zip [2162187/2162187] -> \"pos-rnn-data.zip\" [1]\n",
            "Archive:  pos-rnn-data.zip\n",
            "  inflating: TEST.p                  \n",
            "  inflating: TRAIN.p                 \n"
          ]
        }
      ],
      "source": [
        "# Download files on the fly with the below two lines\n",
        "!wget -nv https://naturallogic.pro/_files_/download/MLHVL/pos-rnn-data.zip\n",
        "!unzip pos-rnn-data.zip"
      ]
    },
    {
      "cell_type": "code",
      "execution_count": null,
      "metadata": {
        "id": "RnrFIRlig0vU"
      },
      "outputs": [],
      "source": [
        "import pickle\n",
        "with open(\"TRAIN.p\", \"rb\") as f:\n",
        "    sentences, postags, pos_to_int = pickle.load(f)"
      ]
    },
    {
      "cell_type": "markdown",
      "metadata": {
        "id": "__Mu29Wtg0vU"
      },
      "source": [
        "Let's sanity check that we have the same number of sentences as pos tag annotations and for each sentence and annotation pair, the number of tokens and tags are the same."
      ]
    },
    {
      "cell_type": "code",
      "execution_count": null,
      "metadata": {
        "id": "gumFRVgxg0vV"
      },
      "outputs": [],
      "source": [
        "assert all(list(map(lambda s, p: len(s.split()) == len(p), sentences, postags)))"
      ]
    },
    {
      "cell_type": "markdown",
      "metadata": {
        "id": "RcsvhH32g0vV"
      },
      "source": [
        "Now, let us take a moment to understand the data a bit more.\n",
        "Run the cell below with different values of `i` to get an idea of how the data looks like."
      ]
    },
    {
      "cell_type": "code",
      "execution_count": null,
      "metadata": {
        "id": "9FrCP6iRg0vV",
        "colab": {
          "base_uri": "https://localhost:8080/"
        },
        "outputId": "4c9a6bae-0e73-4294-fee8-0491e4c3644a"
      },
      "outputs": [
        {
          "output_type": "stream",
          "name": "stdout",
          "text": [
            "The/DT luxury/NN auto/NN maker/NN last/JJ year/NN sold/VBD 1,214/CD cars/NNS in/IN the/DT U.S./NNP "
          ]
        }
      ],
      "source": [
        "i = 2\n",
        "for tok, tag in zip(sentences[i].split(), postags[i]):\n",
        "    print(f\"{tok}/{tag}\", end=' ')"
      ]
    },
    {
      "cell_type": "markdown",
      "metadata": {
        "id": "y_YqEIgJg0vV"
      },
      "source": [
        "The POS tags in this dataset are in the style of the Penn Treebank. Find the top 20 most common tags and plot a histogram of their frequencies, i.e., <ins>top 20 most frequent POS tags sitting on the x axis and y axis marking their raw counts</ins>. If you are curious, also find out what these tags mean linguistically! https://www.ling.upenn.edu/courses/Fall_2003/ling001/penn_treebank_pos.html  \n",
        "<font color=\"red\">_Hint_: the 7th and 8th most frequent tags are punctuation marks."
      ]
    },
    {
      "cell_type": "code",
      "execution_count": null,
      "metadata": {
        "id": "vgELGEs3g0vW",
        "colab": {
          "base_uri": "https://localhost:8080/",
          "height": 975
        },
        "outputId": "d288e4b6-bcef-49fe-8b80-f1539311ef14"
      },
      "outputs": [
        {
          "output_type": "stream",
          "name": "stdout",
          "text": [
            "Unique tags are:  {'NN', 'LS', 'CC', 'WDT', 'VB', 'NNS', 'CD', 'VBZ', 'RRB', 'PDT', '$', 'RP', 'SYM', 'JJ', 'LRB', 'PRP$', ';', '.', 'TO', ':', 'JJR', '#', 'RB', 'UH', 'WP$', 'NNPS', 'WP', 'FW', 'AS', 'NNP', ',', 'VBP', 'POS', 'VBG', 'SO', 'SBAR', 'WRB', 'VBN', 'JJS', 'RBR', 'EX', 'IN', 'DT', 'VBD', 'RBS', 'PRP', 'MD', 'NP'}\n",
            "No of unique tags:  48\n",
            "All tags are:  669276\n"
          ]
        },
        {
          "output_type": "execute_result",
          "data": {
            "text/plain": [
              "<BarContainer object of 20 artists>"
            ]
          },
          "metadata": {},
          "execution_count": 24
        },
        {
          "output_type": "display_data",
          "data": {
            "text/plain": [
              "<Figure size 640x480 with 0 Axes>"
            ]
          },
          "metadata": {}
        },
        {
          "output_type": "display_data",
          "data": {
            "text/plain": [
              "<Figure size 1000x1000 with 1 Axes>"
            ],
            "image/png": "[encoded data removed]"
          },
          "metadata": {}
        }
      ],
      "source": [
        "# @title c3 [0pt]\n",
        "import matplotlib.pyplot as plt\n",
        "from collections import Counter as cnt\n",
        "\n",
        "# retrieve the tags\n",
        "all_tags = [tag for x in postags for tag in x]\n",
        "\n",
        "print(\"Unique tags are: \", set(all_tags))\n",
        "print(\"No of unique tags: \", len(set(all_tags)))\n",
        "print(\"All tags are: \", len(all_tags))\n",
        "\n",
        "# Count the most common ones\n",
        "\n",
        "common_20 = cnt(all_tags).most_common(20)\n",
        "\n",
        "# create the values of each axis\n",
        "\n",
        "x = [tag for (tag, count) in common_20]\n",
        "y = [count for (tag, count) in common_20]\n",
        "\n",
        "# plotting section\n",
        "plt.figure(1)\n",
        "plt.figure(figsize=(10,10))\n",
        "plt.xlabel(\"POS-Tags\")\n",
        "plt.ylabel(\"Amount\")\n",
        "plt.title(\"20 Most common POS-Tags\")\n",
        "plt.grid()\n",
        "plt.bar(x, y, color ='cyan', edgecolor='orange', linewidth = 2, align ='center')"
      ]
    },
    {
      "cell_type": "markdown",
      "metadata": {
        "id": "vCwrWSqog0vW"
      },
      "source": [
        "### Tensorizing sentences\n",
        "Next, we need to convert our data to numeric form. Convert sentences to their tensor format, as done earlier (this may take a while).\n",
        "\n",
        "<div class=\"alert alert-block alert-info\">\n",
        "<b>Important!</b>\n",
        "Since the sentences are pre-tokenized with whitespace (e.g., <code>One , two , and three .</code> instead of <code>One, two, and three.</code>), we need to change the processing call to ensure the output vectors are aligned with our tokenization (otherwise SpaCy will tokenize it in its own way and might break the correspondence between tokens and POS tags).\n",
        "</div>"
      ]
    },
    {
      "cell_type": "code",
      "execution_count": null,
      "metadata": {
        "id": "MOXWLiJSg0vW"
      },
      "outputs": [],
      "source": [
        "# @title c4 [0pt]\n",
        "docs = list(map(\n",
        "    lambda sentence: spacy.tokens.doc.Doc(nlp.vocab, words=sentence.split()),\n",
        "    sentences\n",
        "))\n",
        "\n",
        "# Vector mapping\n",
        "doc_vectors = map(lambda d: [w.vector for w in d], docs)\n",
        "doc_tensors = list(map(lambda v: torch.tensor(np.array(v)), doc_vectors))"
      ]
    },
    {
      "cell_type": "code",
      "execution_count": null,
      "metadata": {
        "id": "AYlvOKnBg0vW"
      },
      "outputs": [],
      "source": [
        "# TEST c4\n",
        "assert type(doc_tensors) == list\n",
        "assert doc_tensors[0].shape == torch.Size([45, 300])\n",
        "assert doc_tensors[1].shape == torch.Size([5, 300])\n",
        "assert doc_tensors[2].shape == torch.Size([12, 300])"
      ]
    },
    {
      "cell_type": "markdown",
      "metadata": {
        "id": "kxdBO6XDg0vW"
      },
      "source": [
        "Similarly, we will use `pos_to_int` to convert the POS sequences into tensors."
      ]
    },
    {
      "cell_type": "code",
      "execution_count": null,
      "metadata": {
        "id": "7kIWpQQvg0vW",
        "colab": {
          "base_uri": "https://localhost:8080/"
        },
        "outputId": "5c2b5725-584a-45d1-f4a0-57e502504d2b"
      },
      "outputs": [
        {
          "output_type": "stream",
          "name": "stdout",
          "text": [
            "<class 'list'>\n",
            "torch.Size([5])\n",
            "tensor([12, 12, 26, 12, 14])\n"
          ]
        }
      ],
      "source": [
        "pos_numeric = list(map(lambda pos_sequence: [pos_to_int[pos] for pos in pos_sequence], postags))\n",
        "pos_tensors =  list(map(lambda pos_num_sequence: torch.tensor(pos_num_sequence), pos_numeric))\n",
        "\n",
        "print(type(pos_tensors))\n",
        "print(pos_tensors[1].shape)\n",
        "print(pos_tensors[1])"
      ]
    },
    {
      "cell_type": "code",
      "execution_count": null,
      "metadata": {
        "id": "0R4Sol31g0vX"
      },
      "outputs": [],
      "source": [
        "del doc_vectors, docs, pos_numeric"
      ]
    },
    {
      "cell_type": "markdown",
      "metadata": {
        "id": "da2duRB3g0vX"
      },
      "source": [
        "In the tutorial, we saw how to split our dataset into a training and a validation set.\n",
        "\n",
        "Do the same here, splitting the sentences, POS tags and their corresponding tensors into a training and a validation set.  \n",
        "For the sake of determinism of the training, while splitting data, set shuffling `random_state` to 42 and select 0.2 of the data for validation.  "
      ]
    },
    {
      "cell_type": "code",
      "execution_count": null,
      "metadata": {
        "id": "Ww1slVBZg0vX"
      },
      "outputs": [],
      "source": [
        "from sklearn.model_selection import train_test_split\n",
        "sentences_train, sentences_val, postags_train, postags_val, X_train, X_val, Y_train, Y_val \\\n",
        "    = train_test_split(sentences, postags, doc_tensors, pos_tensors, test_size=0.2, random_state=42)"
      ]
    },
    {
      "cell_type": "markdown",
      "metadata": {
        "id": "jlNpaJoRg0vX"
      },
      "source": [
        "### Datasets and Padding"
      ]
    },
    {
      "cell_type": "markdown",
      "metadata": {
        "id": "5dEiKJhig0vY"
      },
      "source": [
        "Again, following along the tutorial, we will wrap our tensors into a `Dataset` ([link](https://pytorch.org/docs/stable/data.html#torch.utils.data.Dataset)) and a `DataLoader` ([link](https://pytorch.org/docs/stable/data.html#torch.utils.data.DataLoader)).\n",
        "\n",
        "Since our data are not Tensors but rather Lists of Tensors of uneven lengths, we need to write our own Dataset wrapper.\n",
        "The wrapper only needs to implement two functions; `__len__`, which expects no arguments and returns the number of samples in the dataset, and `__getitem__`, which accepts an index `idx` and returns the input-output pair `X[idx]`, `Y[idx]`.\n",
        "\n",
        "Similarly, the Dataloader needs to process the list of input-output pairs produced by the Dataset using `pad_sequence`, as seen earlier."
      ]
    },
    {
      "cell_type": "markdown",
      "metadata": {
        "id": "lzYR83uFg0vY"
      },
      "source": [
        "Fill in the code for `UnevenLengthDataset` class, implementing its two core functions.\n",
        "\n",
        "<div class=\"alert alert-block alert-info\">\n",
        "If you have no experience creating container-like classes from scratch in Python, refer to the documentation for the <a href=\"https://docs.python.org/3/reference/datamodel.html#special-method-names\">special class methods</a> and for <a href=\"https://docs.python.org/3/reference/datamodel.html#emulating-container-types\">emulating container types</a>. Talk to your teacher if needed.</div>\n",
        "\n",
        "Then, complete the function `pad_batch` which takes a list of\n",
        "(x$_i$, y$_i$) pairs and produces the pair of their paddings: (X, Y).\n",
        "\n",
        "Given the two, the `DataLoader` object can iterate over the Dataset yielding uniform batches ready to be consumed by an RNN."
      ]
    },
    {
      "cell_type": "code",
      "execution_count": null,
      "metadata": {
        "id": "OAe9HlWbg0vY"
      },
      "outputs": [],
      "source": [
        "# @title c5 [.5pt]\n",
        "from torch.nn.utils.rnn import pad_sequence\n",
        "from torch.utils.data import Dataset, DataLoader\n",
        "\n",
        "\n",
        "class UnevenLengthDataset(Dataset):\n",
        "    def __init__(self, X: List[FloatTensor], Y: List[LongTensor]) -> None:\n",
        "        self.X = X\n",
        "        self.Y = Y\n",
        "\n",
        "    def __len__(self) -> int:\n",
        "        return len(self.X)\n",
        "\n",
        "    def __getitem__(self, idx: int) -> Tuple[FloatTensor, LongTensor]:\n",
        "        return self.X[idx], self.Y[idx]\n",
        "\n",
        "\n",
        "\n",
        "def pad_batch(batch: List[Tuple[FloatTensor, LongTensor]]) -> Tuple[FloatTensor, LongTensor]:\n",
        "\n",
        "    x_ = [m for (m,n) in batch]\n",
        "    y_ = [n for (m,n) in batch]\n",
        "    # apply padding to x_ and y_\n",
        "    x_pad = torch.nn.utils.rnn.pad_sequence(x_)\n",
        "    y_pad = torch.nn.utils.rnn.pad_sequence(y_)\n",
        "    # return the padded pair\n",
        "    return x_pad, y_pad"
      ]
    },
    {
      "cell_type": "code",
      "execution_count": null,
      "metadata": {
        "id": "uhiSoiyYg0vY"
      },
      "outputs": [],
      "source": [
        "# TEST c5\n",
        "BATCH_SIZE = 32 # don't change this value\n",
        "\n",
        "train_dataset = UnevenLengthDataset(X_train, Y_train)\n",
        "train_dataloader = DataLoader(\n",
        "    train_dataset,\n",
        "    collate_fn=pad_batch,\n",
        "    shuffle=True, # data will be reshuffled at every epoch\n",
        "    batch_size=BATCH_SIZE\n",
        ")\n",
        "\n",
        "val_dataset = UnevenLengthDataset(X_val, Y_val)\n",
        "val_dataloader = DataLoader(\n",
        "    val_dataset,\n",
        "    collate_fn=pad_batch,\n",
        "    shuffle=False,\n",
        "    batch_size=BATCH_SIZE # don't change this value\n",
        ")"
      ]
    },
    {
      "cell_type": "markdown",
      "metadata": {
        "id": "FiiEfocUg0vZ"
      },
      "source": [
        "What does a batch look like, shape-wise? Get the first element of `train_dataloader` to find out.  \n",
        "Try to understand what each number in the shape means.  \n",
        "<font color=\"red\">_Hint_: 42 is the length of a sequence in the batch, but why 42?</font>"
      ]
    },
    {
      "cell_type": "code",
      "execution_count": null,
      "metadata": {
        "id": "XW14O_bqg0vZ",
        "colab": {
          "base_uri": "https://localhost:8080/"
        },
        "outputId": "0d898b22-cad2-4ce4-f0b6-1e5dc056f307"
      },
      "outputs": [
        {
          "output_type": "stream",
          "name": "stdout",
          "text": [
            "torch.Size([42, 32, 300])\n",
            "torch.Size([42, 32])\n"
          ]
        }
      ],
      "source": [
        "# without the seed, every time you run this cell, it will give a random batch\n",
        "torch.manual_seed(2)\n",
        "for batch_x, batch_y in train_dataloader:\n",
        "    print(batch_x.shape)\n",
        "    print(batch_y.shape)\n",
        "    break"
      ]
    },
    {
      "cell_type": "markdown",
      "metadata": {
        "id": "roTUFHtTg0vZ"
      },
      "source": [
        "So far so good. On to the network.\n",
        "\n",
        "### Utility Functions\n",
        "Remember how we defined our training and validation functions in the tutorial?\n",
        "\n",
        "You will need to do the same here.\n",
        "Note that while you can use the code from the tutorial for guidance, just copying it won't do the trick; unlike a feedforward net, a recurrent network produces a 3rd order output tensor of shape (max_seq_len, batch_size, num_output_classes).\n",
        "\n",
        "Similarly, our target Y is a 2nd order tensor of shape (max_seq_len, batch_size).\n",
        "\n",
        "You will need to properly treat the extra dimension of both the output and the target, since loss functions expect an order 2 output tensor and an order 1 target tensor."
      ]
    },
    {
      "cell_type": "markdown",
      "metadata": {
        "id": "uhFRLw69g0vZ"
      },
      "source": [
        "The functions `accuracy` and `measure_accurace`, which will be needed during evaluation, are already provided to you."
      ]
    },
    {
      "cell_type": "code",
      "execution_count": null,
      "metadata": {
        "id": "dn96Y41bg0va"
      },
      "outputs": [],
      "source": [
        "def accuracy(predictions: LongTensor, truth: LongTensor, ignore_idx: int) -> Tuple[int, int]:\n",
        "    \"\"\"\n",
        "    Compute the total count of non-ignored values and total count of correctly predicted values.\n",
        "\n",
        "    :param predictions: the network's predictions\n",
        "    :param truth: the true output labels\n",
        "    :param ignore_idx: the output padding value, to be ignored in accuracy calculation\n",
        "    :return the total count of non-ignored values, the total count of correctly predicted values\n",
        "    \"\"\"\n",
        "    correct_words = torch.ones(predictions.size())\n",
        "    # Zero out the incorrectly predicted values.\n",
        "    correct_words[predictions != truth] = 0\n",
        "    # Mark with 1 the values that need to be ignored.\n",
        "    correct_words[truth == ignore_idx] = 1\n",
        "    # Calculate the total count of correctly predicted values, incl. the ignored ones.\n",
        "    num_correct_words = correct_words.sum().item()\n",
        "    # Calculate the number of the values to be ignored.\n",
        "    num_masked_words = len(truth[truth == ignore_idx])\n",
        "    #\n",
        "    count_non_ignored = predictions.shape[0] * predictions.shape[1] - num_masked_words\n",
        "    count_correct = num_correct_words - num_masked_words\n",
        "    return count_non_ignored, count_correct\n",
        "\n",
        "\n",
        "def measure_accuracy(network: torch.nn.Module, dataloader: DataLoader, device: str) -> float:\n",
        "    \"\"\"\n",
        "    Compute the network's accuracy across all batches.\n",
        "\n",
        "    :param network: the trained network\n",
        "    :param dataloader: the dataloader for the validation data\n",
        "    :param device: the device to store the data on (\"cpu\" or \"cuda\")\n",
        "    :return the network's accuracy\n",
        "    \"\"\"\n",
        "    correct = 0\n",
        "    total = 0\n",
        "    # Iterate over the batches.\n",
        "    for x_batch, y_batch in dataloader:\n",
        "        # Get the network predictions.\n",
        "        pred = network(x_batch.to(device))\n",
        "        # Compute the values to measure accuracy for the current batch.\n",
        "        # note that pos tags are mapped to numbers 1..48 and we can safely use 0 for making dummy padding slots\n",
        "        local_total, local_correct = accuracy(pred.argmax(dim=-1), y_batch.to(device), ignore_idx=0)\n",
        "        # Update the total counts.\n",
        "        correct += local_correct\n",
        "        total += local_total\n",
        "    # Compute the final accuracy in all batches.\n",
        "    acc = correct/total\n",
        "    return acc"
      ]
    },
    {
      "cell_type": "code",
      "execution_count": null,
      "metadata": {
        "id": "VAIVLn14g0va",
        "colab": {
          "base_uri": "https://localhost:8080/"
        },
        "outputId": "0d243167-43bc-4580-f2f7-db59b315c436"
      },
      "outputs": [
        {
          "output_type": "stream",
          "name": "stdout",
          "text": [
            "(5, 3.0)\n",
            "(8, 6.0)\n"
          ]
        }
      ],
      "source": [
        "# If you want to understadn how accuracy works, you can verify these toy input/output pairs\n",
        "print(accuracy(LongTensor([[1,2,0,0], [3,4,5,0]]), LongTensor([[1,3,0,0], [1,4,5,0]]), ignore_idx=0))\n",
        "print(accuracy(LongTensor([[1,2,0,0], [3,4,5,0]]), LongTensor([[1,3,0,0], [1,4,5,0]]), ignore_idx=9))"
      ]
    },
    {
      "cell_type": "markdown",
      "metadata": {
        "id": "ouJtwHZkg0va"
      },
      "source": [
        "Complete the functions `train_batch`, `train_epoch`, `eval_batch` and `eval_epoch`."
      ]
    },
    {
      "cell_type": "code",
      "execution_count": null,
      "metadata": {
        "id": "c0WnXB0Rg0va"
      },
      "outputs": [],
      "source": [
        "# @title c6 [1pt]\n",
        "# Most of the following are from the tutorial\n",
        "def train_batch(\n",
        "    network: torch.nn.Module,\n",
        "    X_batch: FloatTensor,\n",
        "    Y_batch: LongTensor,\n",
        "    loss_fn: Callable[[FloatTensor, FloatTensor], FloatTensor],\n",
        "    optimizer: torch.optim.Optimizer\n",
        ") -> float: #batch-specific loss\n",
        "\n",
        "    network.train()\n",
        "    prediction_batch = network(X_batch)\n",
        "    # tensor filled with scalar 0 values\n",
        "    batch_loss = torch.zeros(1)\n",
        "\n",
        "    for index in range(len(prediction_batch)):\n",
        "        prediction = prediction_batch[index]\n",
        "        batch_loss += loss_fn(prediction, Y_batch[index])\n",
        "\n",
        "    batch_loss.backward()  # gradient computation\n",
        "    optimizer.step()  # back-propagation\n",
        "    optimizer.zero_grad()  # gradient reset\n",
        "    #print(batch_loss.item())\n",
        "    return batch_loss.item()\n",
        "\n",
        "def train_epoch(\n",
        "    network: torch.nn.Module,\n",
        "    dataloader: DataLoader,\n",
        "    loss_fn: Callable[[FloatTensor, FloatTensor], FloatTensor],\n",
        "    optimizer: torch.optim.Optimizer,\n",
        "    device: str\n",
        ") -> float: #epoch's loss\n",
        "    # Set the initial loss value.\n",
        "    loss = 0.\n",
        "    # Iterate over the batches in the dataloader.\n",
        "    for i, (x_batch, y_batch) in enumerate(dataloader):\n",
        "        x_batch = x_batch.to(device)  # convert back to your chosen device\n",
        "        y_batch = y_batch.to(device)\n",
        "        loss += train_batch(\n",
        "            network=network, X_batch=x_batch, Y_batch=y_batch, loss_fn=loss_fn, optimizer=optimizer\n",
        "        )\n",
        "    loss /= (i+1) # divide the loss by the number of batches for consistency\n",
        "    return loss\n",
        "\n",
        "# Same logic with train_batch()\n",
        "def eval_batch(\n",
        "    network: torch.nn.Module,\n",
        "    X_batch: FloatTensor,\n",
        "    Y_batch: LongTensor,\n",
        "    loss_fn: Callable[[FloatTensor, LongTensor], FloatTensor]\n",
        ") -> float: #batch-specific loss\n",
        "    network.eval()\n",
        "    prediction_batch = network(X_batch)\n",
        "    # tensor filled with scalar 0 values\n",
        "    batch_loss = torch.zeros(1)\n",
        "\n",
        "    for index in range(len(prediction_batch)):\n",
        "      prediction = prediction_batch[index]\n",
        "      batch_loss += loss_fn(prediction,Y_batch[index])\n",
        "\n",
        "    #print(batch_loss.item())\n",
        "    return batch_loss.item()\n",
        "\n",
        "# Same logic as train_epoch()\n",
        "def eval_epoch(\n",
        "    network: torch.nn.Module,\n",
        "    dataloader: DataLoader,\n",
        "    loss_fn: Callable[[FloatTensor, LongTensor], FloatTensor],\n",
        "    device: str\n",
        ") -> float: #epoch's loss\n",
        "    # Set the initial loss value.\n",
        "    loss = 0.\n",
        "    # Iterate over the batches in the dataloader.\n",
        "    for i, (x_batch, y_batch) in enumerate(dataloader):\n",
        "        # convert back to chosen device\n",
        "        x_batch = x_batch.to(device)\n",
        "        y_batch = y_batch.to(device)\n",
        "        loss += eval_batch(network=network, X_batch=x_batch,\n",
        "                          Y_batch=y_batch, loss_fn=loss_fn)\n",
        "    loss /= (i+1) # divide the loss by the number of batches for consistency\n",
        "    return loss\n"
      ]
    },
    {
      "cell_type": "markdown",
      "metadata": {
        "id": "5WF7WwaKg0vb"
      },
      "source": [
        "### SRN POS tagging\n",
        "Define a simple recurrent network, with input size compatible with the vector dimensionality, output size compatible with the number of output classes (the number of different POS tags + 1 due to using 0 as padding in pos tag annotations) and a pre-defined hidden size."
      ]
    },
    {
      "cell_type": "markdown",
      "metadata": {
        "id": "tuUlSDIrg0vb"
      },
      "source": [
        "<ins>Use `\"tanh\"` as your hidden layer activation</ins>, and choose <ins>an appropriate combination of output activation and loss function</ins> (consider the task at hand and refer to the documentation or the tutorial if in doubt).\n",
        "\n",
        "Then instantiate an optimizer over your network and train the network for a specified number of epochs, measuring and printing all four metrics at the end of each epoch: for train and validation sets, loss and accuracy values.\n",
        "\n",
        "<font color=\"red\">_Hint_: Use `measure_accuracy` (defined earlier) to obtain accuracy. For the debugging you can try shorter hidden vectors and a single epoch.\n",
        "\n",
        "Plot the loss and accuracy curves for the training and validation sets. Set the x-axis for epoch number and y-axis for loss/accuracy values."
      ]
    },
    {
      "cell_type": "code",
      "execution_count": null,
      "metadata": {
        "id": "WLrY6yC3g0vb"
      },
      "outputs": [],
      "source": [
        "# @title c7.1 [.5pt]\n",
        "# for deterministic initialization of weights\n",
        "torch.manual_seed(0)\n",
        "\n",
        "# Input size\n",
        "INPUT_DIM = 300\n",
        "# there are 48 unique tags, therefore the output is +1\n",
        "OUTPUT_DIM = 49\n",
        "# Hidden size definition\n",
        "HIDDEN_DIM = 512\n",
        "DEVICE = \"cpu\"\n",
        "\n",
        "# Initialise the SRN\n",
        "srn = fastSRN(input_dim=INPUT_DIM, hidden_dim=HIDDEN_DIM, output_dim=OUTPUT_DIM,\n",
        "              hidden_activation=\"tanh\",\n",
        "              output_activation=torch.nn.LogSoftmax(dim=2),\n",
        "              device=DEVICE)\n",
        "\n",
        "# Adam Optimiser\n",
        "opt = torch.optim.Adam(srn.parameters(), lr=0.003)\n",
        "# Apply the loss function\n",
        "loss_fn = torch.nn.NLLLoss()"
      ]
    },
    {
      "cell_type": "code",
      "execution_count": null,
      "metadata": {
        "id": "wF25AucKg0vb",
        "colab": {
          "base_uri": "https://localhost:8080/"
        },
        "outputId": "797ad654-795f-424f-f18c-e1112d7f2b90"
      },
      "outputs": [
        {
          "output_type": "stream",
          "name": "stdout",
          "text": [
            "For epoch 0 the measurements are: \n",
            "\n",
            "Train loss: 4.785408447120363\n",
            "Train accuracy: 0.9506638038938436\n",
            "Validation loss: 3.614697054580406\n",
            "Validation accuracy: 0.9481302412180271\n",
            "\n",
            "For epoch 1 the measurements are: \n",
            "\n",
            "Train loss: 3.948539184260842\n",
            "Train accuracy: 0.9522848396778821\n",
            "Validation loss: 3.605237777270968\n",
            "Validation accuracy: 0.9488059219663811\n",
            "\n",
            "For epoch 2 the measurements are: \n",
            "\n",
            "Train loss: 3.289956956825509\n",
            "Train accuracy: 0.9548908085965262\n",
            "Validation loss: 3.5062078023082996\n",
            "Validation accuracy: 0.9503374649959835\n",
            "\n",
            "For epoch 3 the measurements are: \n",
            "\n",
            "Train loss: 3.189222524971362\n",
            "Train accuracy: 0.9554224486407736\n",
            "Validation loss: 3.5419976257142567\n",
            "Validation accuracy: 0.9505101389650072\n",
            "\n",
            "For epoch 4 the measurements are: \n",
            "\n",
            "Train loss: 3.1352549066606734\n",
            "Train accuracy: 0.9574128343502892\n",
            "Validation loss: 3.484079077761009\n",
            "Validation accuracy: 0.9529951426061757\n",
            "\n",
            "For epoch 5 the measurements are: \n",
            "\n",
            "Train loss: 3.067999568206585\n",
            "Train accuracy: 0.9552489661000192\n",
            "Validation loss: 3.5323818953579695\n",
            "Validation accuracy: 0.9501798061547009\n",
            "\n",
            "For epoch 6 the measurements are: \n",
            "\n",
            "Train loss: 3.0754356880061673\n",
            "Train accuracy: 0.9573773916806727\n",
            "Validation loss: 3.487118022151725\n",
            "Validation accuracy: 0.9517563945675268\n",
            "\n",
            "For epoch 7 the measurements are: \n",
            "\n",
            "Train loss: 3.043894442343554\n",
            "Train accuracy: 0.957826953963703\n",
            "Validation loss: 3.455367787805184\n",
            "Validation accuracy: 0.9511407743301377\n",
            "\n",
            "For epoch 8 the measurements are: \n",
            "\n",
            "Train loss: 3.0375659659998306\n",
            "Train accuracy: 0.9570621384614524\n",
            "Validation loss: 3.492612977507253\n",
            "Validation accuracy: 0.9514936298320558\n",
            "\n",
            "For epoch 9 the measurements are: \n",
            "\n",
            "Train loss: 3.0042756319046022\n",
            "Train accuracy: 0.9558384336578514\n",
            "Validation loss: 3.6201352196395713\n",
            "Validation accuracy: 0.950232359101795\n",
            "\n"
          ]
        }
      ],
      "source": [
        "# @title c7.2 [1pt]\n",
        "# Your training script here\n",
        "# note that if you don't initialize srn from scratch, running this cell 2nd time will mean\n",
        "# training the already trained parameters for further epochs\n",
        "# Seed makes sure that shuffles in training set are same for each run of this cell\n",
        "torch.manual_seed(0)\n",
        "# Number of epochs\n",
        "NUM_EPOCHS = 10\n",
        "\n",
        "# Initialize the accuracy/loss variables\n",
        "train_loss = []\n",
        "train_acc = []\n",
        "val_loss = []\n",
        "val_acc = []\n",
        "\n",
        "for index in range(NUM_EPOCHS):\n",
        "    train_loss_current = train_epoch(network=srn, dataloader=train_dataloader, optimizer=opt,loss_fn=loss_fn,device=\"cpu\")\n",
        "    val_loss_current = eval_epoch(network=srn, dataloader=val_dataloader, loss_fn=loss_fn, device=\"cpu\")\n",
        "    train_acc_current = measure_accuracy(network=srn, dataloader=train_dataloader, device=\"cpu\")\n",
        "    val_acc_current = measure_accuracy(network=srn, dataloader=val_dataloader, device=\"cpu\")\n",
        "    print(f\"For epoch {index} the measurements are: \\n\\nTrain loss: {train_loss_current}\"+\n",
        "                       f\"\\nTrain accuracy: {train_acc_current}\"+\n",
        "                       f\"\\nValidation loss: {val_loss_current}\"+\n",
        "                       f\"\\nValidation accuracy: {val_acc_current}\\n\")\n",
        "    # Add the values of each epoch for hist\n",
        "    train_loss.append(train_loss_current)\n",
        "    train_acc.append(train_acc_current)\n",
        "    val_loss.append(val_loss_current)\n",
        "    val_acc.append(val_acc_current)\n"
      ]
    },
    {
      "cell_type": "markdown",
      "metadata": {
        "id": "qf--DVOtuqfq"
      },
      "source": [
        "<font color=\"red\">**Don't clear the output of the above cell!**</font>"
      ]
    },
    {
      "cell_type": "code",
      "execution_count": null,
      "metadata": {
        "id": "22CMBaScg0vb",
        "colab": {
          "base_uri": "https://localhost:8080/",
          "height": 893
        },
        "outputId": "9c027d58-ae0d-489b-eb68-6fa3585298c1"
      },
      "outputs": [
        {
          "output_type": "display_data",
          "data": {
            "text/plain": [
              "<Figure size 1000x1000 with 2 Axes>"
            ],
            "image/png": "[encoded data removed]"
          },
          "metadata": {}
        }
      ],
      "source": [
        "# @title c7.3 [.5pt]\n",
        "# Your loss plotting here: x-axis for epochs and y-axis for train and validation losses\n",
        "\n",
        "import matplotlib.pyplot as plt\n",
        "# Epoch axis\n",
        "x = range(0, NUM_EPOCHS)\n",
        "\n",
        "plt.figure(1, figsize = (10,10))\n",
        "plt.subplot(2,1,1)\n",
        "# plt.rcParams[\"figure.figsize\"] = (7,7)\n",
        "plt.plot(x, train_loss)\n",
        "plt.plot(x, val_loss)\n",
        "plt.grid(color='grey', linestyle='-', linewidth=0.5)\n",
        "plt.ylabel(\"Loss\")\n",
        "plt.xlabel(\"Epoch\")\n",
        "plt.legend([\"Training Loss\", \"Validation Loss\"])\n",
        "plt.title(\"Train and validation loss per epoch for POS-Tagging with SRN\")\\\n",
        "\n",
        "\n",
        "# Your accuracy plotting here: x-axis for epochs and y-axis for train and validation accuracies\n",
        "plt.subplot(2,1,2)\n",
        "# plt.rcParams[\"figure.figsize\"] = (7,7)\n",
        "plt.plot(x, train_acc)\n",
        "plt.plot(x, val_acc)\n",
        "plt.grid(color='grey', linestyle='-', linewidth=0.5)\n",
        "plt.ylabel(\"Accuracy\")\n",
        "plt.xlabel(\"Epoch\")\n",
        "plt.legend([\"Training accuracy\", \"Validation accuracy\"])\n",
        "plt.title(\"Train and validation accuracy per epoch for POS-Tagging with SRN\")\n",
        "plt.show()"
      ]
    },
    {
      "cell_type": "markdown",
      "metadata": {
        "id": "Q865e9Wsg0vb"
      },
      "source": [
        "<font color=\"red\">**Don't clear the output of the above cell!**</font>\n",
        "\n",
        "The test accuracy on this task should be well over 90%. If you are getting an accuracy much below this, check your code carefully."
      ]
    },
    {
      "cell_type": "markdown",
      "metadata": {
        "id": "v8528VLMg0vc"
      },
      "source": [
        "### Error analysis\n",
        "<ins>Find sentences from the validation set</ins> where the network predicted wrong POS tags.  \n",
        "Complete the function that returns a list of sentences where the network failed to guess a POS tag."
      ]
    },
    {
      "cell_type": "code",
      "execution_count": null,
      "metadata": {
        "id": "Hrsqo4o8g0vc"
      },
      "outputs": [],
      "source": [
        "# @title c8 [1pt]\n",
        "#   wrong_predictions(srn, sentences_val, postags_val, X_val,   Y_val,  pos_to_int, 'cpu')\n",
        "def wrong_predictions(nn, sentences,        tags,     sent_vec, tag_idx, tag2idx, device='cpu'):\n",
        "    \"\"\"\n",
        "    :param nn: the network representing a POS tagger\n",
        "    :param sentences: the list of sentences\n",
        "    :param tags: a list of list of tags (aligned with sentences)\n",
        "    :param sent_vec: sentences with vectorized tokens\n",
        "    :param tag_idx: tags parameter where tags are mapped to indices\n",
        "    :param tag2idx: mapping of tags to indices\n",
        "    :param device: device for computation, defaults to the global DEVICE value\n",
        "    returns a list of sentences, where sentences are a list of tuples:\n",
        "        (token, tag) for correctly tagged tokens and\n",
        "        (token, reference_tag, predicted_tag) for wrongly tagged tokens\n",
        "    \"\"\"\n",
        "\n",
        "    # Set the model to evaluation mode\n",
        "    #nn.eval()\n",
        "    # List to store wrongly tagged sentences\n",
        "    wrong_predictions = []\n",
        "    # Some initial variables\n",
        "    count = 0\n",
        "    has_wrong_preds = False\n",
        "    predictions = []\n",
        "    predicted_tags = []\n",
        "    # Exchange the keys with the values in the pos_to_int dict\n",
        "    int_to_pos = {val: key for key, val in pos_to_int.items()}\n",
        "    # Loop through the sentences, true tags and the sentence vector\n",
        "    for sent, true_tag, sent_vector in zip(sentences, tags, sent_vec):\n",
        "            # Clear the params for every loop\n",
        "            wrong_predictions = []\n",
        "            has_wrong_preds = False\n",
        "            predicted_tags = []\n",
        "            # Make predictions on the SRN\n",
        "            sent_tensor = torch.tensor(sent_vector).unsqueeze(0).to(device)\n",
        "            predicted_tags_idx = nn(sent_tensor)\n",
        "            predicted_tags_idx = torch.argmax(predicted_tags_idx, dim=-1)\n",
        "\n",
        "            # Identify the predicted tags\n",
        "            for idx in predicted_tags_idx[0]:\n",
        "                predicted_tags.append(int_to_pos.get(idx.item()))\n",
        "            # Compare the true tag with the predicted tag\n",
        "            for i, predicted_tag in enumerate(predicted_tags):\n",
        "                if true_tag[i] != predicted_tag:\n",
        "                    # Append the wrong prediction in (token, true_tag, predicted_tag) format\n",
        "                    wrong_predictions.append((sent.split()[i], true_tag[i], predicted_tag))\n",
        "                else:\n",
        "                    # Append the correct prediction in (token, true_tag) format\n",
        "                    wrong_predictions.append((sent.split()[i], true_tag[i]))\n",
        "            # Loop through the wrong_predictions and ignore the sentences that have no wrong predictions\n",
        "            for w_pred in wrong_predictions:\n",
        "                if len(w_pred) == 3:\n",
        "                    has_wrong_preds = True\n",
        "            if has_wrong_preds == True: predictions.append(wrong_predictions)\n",
        "    # Return the wrong predictions\n",
        "    return predictions"
      ]
    },
    {
      "cell_type": "code",
      "execution_count": null,
      "metadata": {
        "colab": {
          "base_uri": "https://localhost:8080/"
        },
        "id": "JzLJh9l7uEwH",
        "outputId": "642a0b8a-b3d5-4955-909d-4b662590723d"
      },
      "outputs": [
        {
          "output_type": "stream",
          "name": "stderr",
          "text": [
            "<ipython-input-39-88ffe20c2882>:35: UserWarning: To copy construct from a tensor, it is recommended to use sourceTensor.clone().detach() or sourceTensor.clone().detach().requires_grad_(True), rather than torch.tensor(sourceTensor).\n",
            "  sent_tensor = torch.tensor(sent_vector).unsqueeze(0).to(device)\n"
          ]
        }
      ],
      "source": [
        "wrong_preds = wrong_predictions(srn, sentences_val, postags_val, X_val, Y_val, pos_to_int)"
      ]
    },
    {
      "cell_type": "code",
      "execution_count": null,
      "metadata": {
        "id": "6cRQzmFOVOXG",
        "colab": {
          "base_uri": "https://localhost:8080/"
        },
        "outputId": "85989ccb-9e91-4ee3-bfa9-8cebbf5a1540"
      },
      "outputs": [
        {
          "output_type": "stream",
          "name": "stdout",
          "text": [
            "Managers in all three companies recognize|VBP|VB speed as a component of quality and a key|NN|JJ to customer satisfaction .\n",
            "The national office currently has 21 noncriminal audit projects , according to Marshall V. Washburn , deputy|NN|JJ assistant commissioner for examination .\n",
            "Still , Hugo 's impact may revive unsuccessful proposals to give|VB|VBP local governments authority to levy|VB|NN sales|JJ|NNS taxes .\n"
          ]
        }
      ],
      "source": [
        "# TEST c8\n",
        "for s in wrong_preds[52:55]: # feel free to change the slice indices\\\n",
        "\n",
        "    print(' '.join([ t[0] if len(t) == 2 else f\"{t[0]}|{t[1]}|{t[2]}\" for t in s ]))\n",
        "assert len(wrong_preds)/len(sentences_val) > 0.4"
      ]
    },
    {
      "cell_type": "markdown",
      "metadata": {
        "id": "z6ZYgxsoTzYs"
      },
      "source": [
        "#### q8 [1pt]\n",
        "\n",
        "Adjust the code above (in TEST cell) to make it print **three** different types of tagging mistakes you would like to discuss.  \n",
        "Make suggestions as to why the mistakes were made. Refer to the [POS tags](https://www.ling.upenn.edu/courses/Fall_2003/ling001/penn_treebank_pos.html) for the POS tag descriptions and the [POS tag annotation guideline](https://www.cis.upenn.edu/~bies/manuals/tagguide.pdf) which defines when a particular POS tag should and should not be used.  \n",
        "\n",
        "<font color=\"red\">Note that we don't expect you to read the entire PDF of the guideline. Use search to find definitions of relevant POS tags and their contrast to other POS tags."
      ]
    },
    {
      "cell_type": "markdown",
      "metadata": {
        "id": "01iTGTBRg0vc"
      },
      "source": [
        "### Example 1:\n",
        "**Sentence:** Managers in all three companies recognize|**VBP**|**VB** speed as a component of quality and a key|**NN**|**JJ** to customer satisfaction.\n",
        "\n",
        " In this example, the word \"recognize\" was predicted as VB (verb, base form) instead of its true tag VBP (verb, non-3rd person singular present). Although the prediction is wrong, it is possible for the word \"recognize\" to be tagged as VB or VBP. So the model is able to tag this word as a verb, but struggles to determine its form.\n",
        "The word \"key\" was predicted as JJ (adjective) instead of its true tag NN (noun, singular or mass).\n",
        "\n",
        "The context provided in the sentence might not be sufficient for the model to disambiguate the words.\n",
        "\n",
        "### Example 2:\n",
        "**Sentence:** The national office currently has 21 noncriminal audit projects, according to Marshall V. Washburn, deputy|**NN**|**JJ** assistant commissioner for examination.\n",
        "\n",
        "In this example, the word \"deputy\" can be both a noun (NN) and an adjective (JJ). Without a clear context, the model might incorrectly predict its POS tag.\n",
        "One reason could be that the training data lacks diverse examples of sentences with titles and roles like \"deputy assistant commissioner,\" the model might struggle to learn the correct POS tags for such terms.\n",
        "\n",
        "### Example 3:\n",
        "**Sentence:** Still, Hugo's impact may revive unsuccessful proposals to give|**VB**|**VBP** local governments authority to levy|**VB**|**NN** sales|**JJ**|**NNS** taxes.\n",
        "\n",
        "In this example, the word \"levy\" can both be a verb (VB) and a noun (NN). We believe that the reason that the model missclassified this, is the sentence form, as there are probably not many examples in the training data. Uncommon or specialized terms, such as \"levy sales taxes,\" could pose challenges if the model hasn't encountered similar phrases in the training data. In addition, the sentence contains multiple verbs and nouns in close proximity, making it syntactically complex, and therefore, predciting a wrong tag."
      ]
    },
    {
      "cell_type": "markdown",
      "metadata": {
        "id": "i5GOuPutg0vc"
      },
      "source": [
        "### Extended error analysis\n",
        "\n",
        "In this section we will analyze commonly confused pairs of POS tags and the reasons behind them.\n",
        "\n",
        "Complete the function that returns details of confused pairs of POS tags. Note that the pairs are not symmetric: first one is a reference tag and another one a system-predicted tag.\n",
        "\n",
        "<font color=\"red\">_Hint_: In the top 5 confused pairs, there should be `JJ` occurring more than twice.  \n"
      ]
    },
    {
      "cell_type": "code",
      "source": [
        "# @title c9 [.5pt]\n",
        "from collections import defaultdict, Counter\n",
        "def freq_confused_tags(wrongly_tagged):\n",
        "    \"\"\"\n",
        "    :param wrongly_tagged: a list of wrongly tagged sentences. Each sentence is\n",
        "        a list of tuples (tok, tag) or (tok, ref_tag, pred_tag)\n",
        "    return a pair of dictionaries (can be default dict):\n",
        "        dict1 is {(ref_tag, pred_tag): Counter of tokens these tags were applied to in a combination}\n",
        "        dict2 is {(ref_tag, pred_tag): a dictionary {token: list of all wrongly tagged sentences where the token with given tags occur}\n",
        "    \"\"\"\n",
        "    tag_combinations_count = defaultdict(Counter)  # {(ref_tag, pred_tag): Counter}\n",
        "    tag_combinations_sentences = defaultdict(lambda: defaultdict(list))  # {(ref_tag, pred_tag): {token: list of sentences}}\n",
        "    # loop through the wrongly tagged sentences\n",
        "    for sentence in wrongly_tagged:\n",
        "        # look through the pairs\n",
        "        for token_info in sentence:\n",
        "            # If (tok, ref_tag, pred_tag)\n",
        "            if len(token_info) == 3:\n",
        "                _, ref_tag, pred_tag = token_info\n",
        "                # count the combinations\n",
        "                tag_combinations_count[(ref_tag, pred_tag)][_]+= 1\n",
        "                # add the sentance to the error pair\n",
        "                token_dict = tag_combinations_sentences[(ref_tag, pred_tag)][_]\n",
        "                token_dict.append(sentence)\n",
        "    # Print the confused tag pairs\n",
        "    print_confused_tag_pairs(tag_combinations_count, tag_combinations_sentences)\n",
        "    return tag_combinations_count, tag_combinations_sentences"
      ],
      "metadata": {
        "id": "1nqW7uZhvRYE"
      },
      "execution_count": null,
      "outputs": []
    },
    {
      "cell_type": "code",
      "execution_count": null,
      "metadata": {
        "id": "fo0iiQifYc5R"
      },
      "outputs": [],
      "source": [
        "# the code that prints top three confused tag pairs with the corresponding examples from the data\n",
        "# this examples will be analyzed in your answer\n",
        "def print_confused_tag_pairs(tag_combinations_count, tag_combinations_sentences):\n",
        "    top_pairs = sorted(tag_combinations_count.items(), key=lambda x: sum(x[1].values()), reverse=True)[0:3]\n",
        "    # Loop through the pairs\n",
        "    for pair, count in top_pairs:\n",
        "        # Print the confused pairs along with sentance examples\n",
        "        ref_tag, pred_tag = pair\n",
        "        print(f\"Confused Tags: ({ref_tag}, {pred_tag})\")\n",
        "        # print(\"Examples:\")\n",
        "        # for token, sentences in tag_combinations_sentences[pair].items():\n",
        "        #     print(f\"Token: '{token}'\")\n",
        "        #     print(\"Sentences:\")\n",
        "        #     for sentence in sentences:\n",
        "        #         print(\" \".join(word for word, *_ in sentence))\n",
        "        #     print(\"\\n---\\n\")"
      ]
    },
    {
      "cell_type": "code",
      "execution_count": null,
      "metadata": {
        "id": "AVU-TbUib6Jd",
        "colab": {
          "base_uri": "https://localhost:8080/"
        },
        "outputId": "00777851-8a91-4a3d-a441-307efb9412ef"
      },
      "outputs": [
        {
          "output_type": "stream",
          "name": "stdout",
          "text": [
            "Confused Tags: (NNP, NN)\n",
            "Confused Tags: (VB, VBP)\n",
            "Confused Tags: (VBN, VBD)\n"
          ]
        }
      ],
      "source": [
        "# TEST c9\n",
        "confused_tags_tok_counts, confused_tags_tok_sents = freq_confused_tags(wrong_preds)\n",
        "\n",
        "assert (\"RBR\", \"JJR\") in confused_tags_tok_counts\n",
        "assert isinstance(confused_tags_tok_counts[(\"RBR\", \"JJR\")], Counter)\n",
        "assert \"more\" in confused_tags_tok_counts[(\"RBR\", \"JJR\")]\n",
        "assert len(confused_tags_tok_sents[(\"RBR\", \"JJR\")][\"more\"]) == confused_tags_tok_counts[(\"RBR\", \"JJR\")][\"more\"]\n",
        "assert all([ any([\"more\" == t[0] for t in s]) for s in confused_tags_tok_sents[(\"RBR\", \"JJR\")][\"more\"] ])"
      ]
    },
    {
      "cell_type": "markdown",
      "metadata": {
        "id": "Q4_ocPh9kCx4"
      },
      "source": [
        "#### q9 [1pt]\n",
        "\n",
        "What are the top **three** commonly confused pairs of POS tags?\n",
        "\n",
        "For each pair, make suggestions as to why these tag pairs are frequently confused. Refer to the examples above printed by your code."
      ]
    },
    {
      "cell_type": "markdown",
      "metadata": {
        "id": "h_uITcV_g0vd"
      },
      "source": [
        "The commonly confused taggs pairs are the following:\n",
        "\n",
        "(NN, JJ)\n",
        "(NNP, JJ)\n",
        "(NN, VBG)\n",
        "\n",
        "Certain pairs of part-of-speech (POS) tags are commonly confused due to the inherent complexities of the English language. Below we try to provide some insight on why that happens:\n",
        "\n",
        "1. **(NN, JJ) - Token: \"chief\" - Noun vs. Adjective**:\n",
        "**Sentence:**\n",
        "*Federal Express goes further in this respect than any company I know of with both Frederick Smith and James Barksdale , **chief** executive and **chief** operating officer , respectively , sitting in on the Appeals Board almost every Tuesday to decide cases .*\n",
        "\n",
        "Determining whether a word is a noun or an adjective often requires analyzing the surrounding context, which might not always be clear or extensive in certain sentences. This becomes even harder in this example, considering that the missclassified word occured twice in very close proximity. Also, the word \"chief\" as a noun and as an adjective shares similar a semantic domain.\n",
        "\n",
        "2. **(NNP, JJ) - Token: \"big\" - Proper Noun vs. Adjective**:\n",
        "\n",
        "**Sentence:**\n",
        "*IBM shares closed at $ 103 , down 50 cents , in Big Board trading .*\n",
        "\n",
        "Proper nouns can sometimes be used adjectivally to describe other nouns(like here). Determining whether a word is a proper noun or an adjective can be challenging without analyzing the broader sentence structure. In this sentence, \"Big\" is a proper noun functioning as an adjective, and it belongs to the (NNP, JJ) pair of tags due to its capitalized form indicating a specific name and its role as an adjective modifying the noun \"Board.\"\n",
        "\n",
        "3. **(NN, VBG) - Token: \"mapping\" -  Noun vs. Gerund (Verb Form Ending in -ing)**:\n",
        "\n",
        "**Sentence:**\n",
        "*In August , a Chicago conference on such devices attracted more than 100 researchers , who reported studies on everything from brain mapping to physical therapy .*\n",
        "\n",
        "\"Mapping\" serves as a noun in this sentence, referring to a process or an act of creating maps or diagrams. But, some actions or activities represented by gerunds can be inherently noun-like (e.g., \"mapping\" can refer to both an action and a process), leading to ambiguity in their POS categorization."
      ]
    },
    {
      "cell_type": "markdown",
      "metadata": {
        "id": "YOhomaePg0vd"
      },
      "source": [
        "### Congratulations!\n",
        "🎉 You are done with the required part!"
      ]
    },
    {
      "cell_type": "markdown",
      "metadata": {
        "id": "0tlTkNrug0vd"
      },
      "source": [
        "### Optional\n",
        "\n",
        "RNNs have limited expressive capacity that can be surpassed by more complicated variants such as [Gated Recurrent Units](https://en.wikipedia.org/wiki/Gated_recurrent_unit) and [Long Short-Term Memory Units](https://en.wikipedia.org/wiki/Long_short-term_memory); replacing your RNN with those could easily improve the performance.\n",
        "\n",
        "If you found the previous part easy and are already done, you can use other neural architectures to do the same task on the same dataset and compare their performance.  (There will be no support provided for this, or points, but you are welcome to explore this for your own understanding :))\n",
        "\n",
        "Whatever your design choices are, keep the torch documentation close at all times! Do not reinvent the wheel, use existing abstractions whenever possible (but make sure you use them the right way!). Take measures against overfitting: regularize with dropout and/or weight decay and keep track of the validation set performance to stop training early if needed."
      ]
    },
    {
      "cell_type": "markdown",
      "metadata": {
        "id": "nbgNN_S8W9Y6"
      },
      "source": [
        "# Acknowledgment\n",
        "\n",
        "The jupyter notebook was initially created by Konstantinos Kogkalidis and Tejaswini Deoskar.  \n",
        "Recent changes, including adaptation to the Colab environment and formulation of several coding tasks in terms of functions, are by Lasha Abzianidze."
      ]
    }
  ],
  "metadata": {
    "colab": {
      "provenance": [],
      "toc_visible": true
    },
    "kernelspec": {
      "display_name": "Python 3",
      "name": "python3"
    },
    "language_info": {
      "codemirror_mode": {
        "name": "ipython",
        "version": 3
      },
      "file_extension": ".py",
      "mimetype": "text/x-python",
      "name": "python",
      "nbconvert_exporter": "python",
      "pygments_lexer": "ipython3",
      "version": "3.9.12"
    }
  },
  "nbformat": 4,
  "nbformat_minor": 0
}
